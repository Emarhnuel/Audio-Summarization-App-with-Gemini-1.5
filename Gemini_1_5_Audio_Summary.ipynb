{
  "nbformat": 4,
  "nbformat_minor": 0,
  "metadata": {
    "colab": {
      "provenance": [],
      "authorship_tag": "ABX9TyOxRLox9L5eXZM8JUKzNta6"
    },
    "kernelspec": {
      "name": "python3",
      "display_name": "Python 3"
    },
    "language_info": {
      "name": "python"
    }
  },
  "cells": [
    {
      "cell_type": "code",
      "execution_count": 1,
      "metadata": {
        "colab": {
          "base_uri": "https://localhost:8080/"
        },
        "id": "qG8TRHwfiW9Q",
        "outputId": "aebb4872-68f3-408c-82fa-dc7c980e99c5"
      },
      "outputs": [
        {
          "output_type": "stream",
          "name": "stdout",
          "text": [
            "\u001b[?25l     \u001b[90m━━━━━━━━━━━━━━━━━━━━━━━━━━━━━━━━━━━━━━━━\u001b[0m \u001b[32m0.0/142.1 kB\u001b[0m \u001b[31m?\u001b[0m eta \u001b[36m-:--:--\u001b[0m\r\u001b[2K     \u001b[91m━━━━━━━━━━━━━━━━━━━━━━━━━━━━━━━━━━━━━\u001b[0m\u001b[90m╺\u001b[0m\u001b[90m━━\u001b[0m \u001b[32m133.1/142.1 kB\u001b[0m \u001b[31m4.5 MB/s\u001b[0m eta \u001b[36m0:00:01\u001b[0m\r\u001b[2K     \u001b[90m━━━━━━━━━━━━━━━━━━━━━━━━━━━━━━━━━━━━━━━━\u001b[0m \u001b[32m142.1/142.1 kB\u001b[0m \u001b[31m3.5 MB/s\u001b[0m eta \u001b[36m0:00:00\u001b[0m\n",
            "\u001b[?25h\u001b[?25l     \u001b[90m━━━━━━━━━━━━━━━━━━━━━━━━━━━━━━━━━━━━━━━━\u001b[0m \u001b[32m0.0/663.6 kB\u001b[0m \u001b[31m?\u001b[0m eta \u001b[36m-:--:--\u001b[0m\r\u001b[2K     \u001b[91m━━━━━━━━━━━━━━━━━━━━━━━━━━━\u001b[0m\u001b[91m╸\u001b[0m\u001b[90m━━━━━━━━━━━━\u001b[0m \u001b[32m460.8/663.6 kB\u001b[0m \u001b[31m13.9 MB/s\u001b[0m eta \u001b[36m0:00:01\u001b[0m\r\u001b[2K     \u001b[90m━━━━━━━━━━━━━━━━━━━━━━━━━━━━━━━━━━━━━━━━\u001b[0m \u001b[32m663.6/663.6 kB\u001b[0m \u001b[31m10.6 MB/s\u001b[0m eta \u001b[36m0:00:00\u001b[0m\n",
            "\u001b[?25h"
          ]
        }
      ],
      "source": [
        "!pip install -q -U google-generativeai"
      ]
    },
    {
      "cell_type": "code",
      "source": [
        "from google.colab import userdata\n",
        "import google.generativeai as genai"
      ],
      "metadata": {
        "id": "WrBeg3QXijM_"
      },
      "execution_count": 2,
      "outputs": []
    },
    {
      "cell_type": "code",
      "source": [
        "\n",
        "GOOGLE_API_KEY=userdata.get(\"GOOGLE_API_KEY\")\n",
        "genai.configure(api_key=GOOGLE_API_KEY)"
      ],
      "metadata": {
        "id": "WT0ETiw5imkI"
      },
      "execution_count": 3,
      "outputs": []
    },
    {
      "cell_type": "code",
      "source": [
        "audio_file = genai.upload_file(path=\"IELTS.mp3\")"
      ],
      "metadata": {
        "id": "ZheYGmoNio2Q"
      },
      "execution_count": 5,
      "outputs": []
    },
    {
      "cell_type": "code",
      "source": [
        "\n",
        "model = genai.GenerativeModel(\"models/gemini-1.5-pro-latest\")\n",
        "\n",
        "response = model.generate_content(\n",
        "    [\n",
        "        \"Please summarize the following audio.\",\n",
        "        audio_file\n",
        "    ]\n",
        ")\n",
        "print(response.text)"
      ],
      "metadata": {
        "colab": {
          "base_uri": "https://localhost:8080/",
          "height": 596
        },
        "id": "POmNLwH7iq93",
        "outputId": "304072f6-27b3-4ba1-e572-f52dbf15ed28"
      },
      "execution_count": 6,
      "outputs": [
        {
          "output_type": "stream",
          "name": "stdout",
          "text": [
            "## Summary of IELTS Reading Tips:\n",
            "\n",
            "This audio provides 5 powerful tips to help you succeed in the IELTS reading section:\n",
            "\n",
            "**Tip 1: Scan, Don't Read:**\n",
            "\n",
            "* IELTS reading is about quickly finding specific information, not understanding every word.\n",
            "* Practice scanning for keywords, dates, names, and anything that stands out.\n",
            "* Time is limited, so move quickly. \n",
            "\n",
            "**Tip 2: Predict the Answer:**\n",
            "\n",
            "* Before reading, try to predict the answer based on the question.\n",
            "* This helps focus your mind on finding specific information.\n",
            "\n",
            "**Tip 3: Identify Paraphrases:**\n",
            "\n",
            "* IELTS often paraphrases the text in the questions, so familiarize yourself with synonyms and different phrasing.\n",
            "* Think of it as learning the \"language of IELTS.\"\n",
            "\n",
            "**Tip 4: Don't Fear Unknown Words:**\n",
            "\n",
            "* You don't need to understand every word to find the correct answer.\n",
            "* Focus on the overall meaning and use context clues to guess the meaning of unfamiliar words.\n",
            "\n",
            "**Tip 5: Practice Under Timed Conditions:**\n",
            "\n",
            "* The reading section is a test of speed, focus, and endurance.\n",
            "* Practice with a timer to simulate real test conditions and improve your time management skills.\n",
            "\n",
            "**Remember:** Practice is key to success. Keep practicing and you'll see improvement in your IELTS reading score. \n",
            "\n"
          ]
        }
      ]
    },
    {
      "cell_type": "code",
      "source": [],
      "metadata": {
        "id": "svjqzrDtitGf"
      },
      "execution_count": 6,
      "outputs": []
    }
  ]
}